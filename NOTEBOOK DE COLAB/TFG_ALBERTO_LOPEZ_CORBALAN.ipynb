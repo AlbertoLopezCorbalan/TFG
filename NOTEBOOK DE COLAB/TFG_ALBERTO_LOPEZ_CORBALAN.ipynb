{
 "cells": [
  {
   "cell_type": "markdown",
   "metadata": {
    "colab_type": "text",
    "id": "gaPrARwMMWyP"
   },
   "source": [
    "# Importación de datos"
   ]
  },
  {
   "cell_type": "markdown",
   "metadata": {
    "colab_type": "text",
    "id": "2isnWM80AQTH"
   },
   "source": [
    "El objetivo de la aplicación será el reconocimiento de varias personas a la par que funcione como benhmark para los dispositivos móviles que se están evaluando.\n",
    "\n",
    "Lo que debemos hacer es la \"congelación\" de una red neuronal para introducirle las clases que nos interesan detectar.\n",
    "\n",
    "Primero de todo realizaremos los siguientes imports:"
   ]
  },
  {
   "cell_type": "code",
   "execution_count": 14,
   "metadata": {
    "colab": {},
    "colab_type": "code",
    "id": "JacjjNeY_KiY"
   },
   "outputs": [],
   "source": [
    "import tensorflow as tf\n",
    "assert tf.__version__.startswith('2')\n",
    "\n",
    "import os\n",
    "import numpy as np\n",
    "import matplotlib.pyplot as plt\n",
    "import zipfile"
   ]
  },
  {
   "cell_type": "markdown",
   "metadata": {
    "colab_type": "text",
    "id": "dJ-zyK-kbxTL"
   },
   "source": [
    "Como este es un notebook en local, lo único que hará falta para descomprimir el fichero de las clases necesario, es colocarlo en la misma carpeta que el notebook, y ejecutar lo siguiente."
   ]
  },
  {
   "cell_type": "code",
   "execution_count": 15,
   "metadata": {
    "colab": {
     "base_uri": "https://localhost:8080/",
     "height": 1000
    },
    "colab_type": "code",
    "id": "0SkT1zGFd_MM",
    "outputId": "27a25a6a-f5c2-430f-8ce0-d5c74dff3abf"
   },
   "outputs": [],
   "source": [
    "with zipfile.ZipFile('clases.zip', 'r') as zip_ref:\n",
    "    zip_ref.extractall()\n",
    "ruta = '.\\clases'"
   ]
  },
  {
   "cell_type": "markdown",
   "metadata": {
    "colab_type": "text",
    "id": "7_mdc0mLMu6a"
   },
   "source": [
    "A continuación, se generará los conjuntos de entrenamiento y validación. El tamaño de la imagen es de 224 porque la red que vamos a usar es ***MobileNet V2*** que acepta como input imágenes de ese tamaño."
   ]
  },
  {
   "cell_type": "code",
   "execution_count": 16,
   "metadata": {
    "colab": {
     "base_uri": "https://localhost:8080/",
     "height": 54
    },
    "colab_type": "code",
    "id": "uhmnaekgjRz2",
    "outputId": "32c7fcef-f0fb-471d-c66a-24a89ad00562"
   },
   "outputs": [
    {
     "name": "stdout",
     "output_type": "stream",
     "text": [
      "Found 130 images belonging to 4 classes.\n",
      "Found 31 images belonging to 4 classes.\n"
     ]
    }
   ],
   "source": [
    "IMAGE_SIZE = 224\n",
    "BATCH_SIZE = 4\n",
    "\n",
    "datagen = tf.keras.preprocessing.image.ImageDataGenerator(\n",
    "    rescale=1./255, \n",
    "    validation_split=0.2)\n",
    "\n",
    "train_generator = datagen.flow_from_directory(\n",
    "    ruta,\n",
    "    target_size=(IMAGE_SIZE, IMAGE_SIZE),\n",
    "    batch_size=BATCH_SIZE, \n",
    "    subset='training')\n",
    "\n",
    "val_generator = datagen.flow_from_directory(\n",
    "    ruta,\n",
    "    target_size=(IMAGE_SIZE, IMAGE_SIZE),\n",
    "    batch_size=BATCH_SIZE, \n",
    "    subset='validation')"
   ]
  },
  {
   "cell_type": "markdown",
   "metadata": {
    "colab_type": "text",
    "id": "Z6uhlPYeO4_C"
   },
   "source": [
    "Vamos a ver la forma que tienen nuestro datos, el primero nos dirá el tamaño de lote (batch) y la forma de cada foto (224x224x3). El segundo nos dirá el tamaño de lote y el número de clases que tenemos."
   ]
  },
  {
   "cell_type": "code",
   "execution_count": 17,
   "metadata": {
    "colab": {
     "base_uri": "https://localhost:8080/",
     "height": 35
    },
    "colab_type": "code",
    "id": "63w4kc8SOYsq",
    "outputId": "66a188c8-36eb-46a9-d954-cd98e0f77115"
   },
   "outputs": [
    {
     "data": {
      "text/plain": [
       "((4, 224, 224, 3), (4, 4))"
      ]
     },
     "execution_count": 17,
     "metadata": {},
     "output_type": "execute_result"
    }
   ],
   "source": [
    "image_batch, label_batch = train_generator[0]\n",
    "image_batch.shape, label_batch.shape"
   ]
  },
  {
   "cell_type": "markdown",
   "metadata": {
    "colab_type": "text",
    "id": "zi7-LKwmPL2l"
   },
   "source": [
    "Vamos a mostrar el nombre de cada clase y lo guardaremos en un fichero .txt"
   ]
  },
  {
   "cell_type": "code",
   "execution_count": 18,
   "metadata": {
    "colab": {
     "base_uri": "https://localhost:8080/",
     "height": 35
    },
    "colab_type": "code",
    "id": "5ksUYBpZPLdj",
    "outputId": "27fa3155-ab2b-4128-b446-38454301b60a"
   },
   "outputs": [
    {
     "name": "stdout",
     "output_type": "stream",
     "text": [
      "{'Alberto': 0, 'Kio': 1, 'Marta': 2, 'undefined': 3}\n"
     ]
    }
   ],
   "source": [
    "print (train_generator.class_indices)\n",
    "\n",
    "labels = '\\n'.join(sorted(train_generator.class_indices.keys()))\n",
    "\n",
    "with open('labels.txt', 'w') as f:\n",
    "  f.write(labels)"
   ]
  },
  {
   "cell_type": "markdown",
   "metadata": {
    "colab_type": "text",
    "id": "KRM_ZSq8QHeq"
   },
   "source": [
    "# Creación del modelo"
   ]
  },
  {
   "cell_type": "markdown",
   "metadata": {
    "colab_type": "text",
    "id": "0MlBz4PfQLlU"
   },
   "source": [
    "El modelo que se va a tomar de partida es el ***MobileNetV2*** desarrollado por Google, entrenado previamente en el dataset *ImageNet* que tiene 1.4M de fotos de 1000 distintas imágenes."
   ]
  },
  {
   "cell_type": "code",
   "execution_count": 19,
   "metadata": {
    "colab": {
     "base_uri": "https://localhost:8080/",
     "height": 54
    },
    "colab_type": "code",
    "id": "aULNPcCMQQIW",
    "outputId": "0303b88d-52b9-47ed-c466-9e28887f1f7c"
   },
   "outputs": [],
   "source": [
    "IMG_SHAPE = (IMAGE_SIZE, IMAGE_SIZE, 3)\n",
    "\n",
    "base_model = tf.keras.applications.MobileNetV2(input_shape=IMG_SHAPE,\n",
    "                                              include_top=False, \n",
    "                                              weights='imagenet')"
   ]
  },
  {
   "cell_type": "markdown",
   "metadata": {
    "colab_type": "text",
    "id": "9ZiRoSzLUfTF"
   },
   "source": [
    "Lo se hará será conectar el modelo que tenemos hasta nuestras clases, pero tenemos dos opciones de hacerlo:\n",
    "- La primera opción es mantener los pesos anteriores\n",
    "- La segunda opción es actualizar los pesos de los anterior\n",
    "\n",
    "Nosotros usaremos la primera opción, ya que nuestros ejemplos no son suficientemente amplios para modificar los pesos del modelo que nos viene preentrenado, para ello ponemos la variable *trainable* a ***False***."
   ]
  },
  {
   "cell_type": "code",
   "execution_count": 20,
   "metadata": {
    "colab": {},
    "colab_type": "code",
    "id": "tJVn12GYZv-m"
   },
   "outputs": [],
   "source": [
    "base_model.trainable = False"
   ]
  },
  {
   "cell_type": "markdown",
   "metadata": {
    "colab_type": "text",
    "id": "TLArOr3YadMi"
   },
   "source": [
    "Creamos nuestro modelo a partir del modelo base anterior, y añadiendo capas de neuronales para terminar en nuestras clases."
   ]
  },
  {
   "cell_type": "code",
   "execution_count": 21,
   "metadata": {
    "colab": {},
    "colab_type": "code",
    "id": "9oABkCJraZAr"
   },
   "outputs": [],
   "source": [
    "model = tf.keras.Sequential([\n",
    "  base_model,\n",
    "  tf.keras.layers.Conv2D(32, 3, activation='relu'),\n",
    "  tf.keras.layers.Dropout(0.2),\n",
    "  tf.keras.layers.GlobalAveragePooling2D(),\n",
    "  tf.keras.layers.Dense(4, activation='softmax')\n",
    "])"
   ]
  },
  {
   "cell_type": "markdown",
   "metadata": {
    "colab_type": "text",
    "id": "IuGc5n3ydAvF"
   },
   "source": [
    "Es necesario compilar el modelo antes de entrenarlo"
   ]
  },
  {
   "cell_type": "code",
   "execution_count": 22,
   "metadata": {
    "colab": {},
    "colab_type": "code",
    "id": "eN-cFhOgdAQB"
   },
   "outputs": [],
   "source": [
    "model.compile(optimizer=tf.keras.optimizers.Adam(), \n",
    "              loss='categorical_crossentropy', \n",
    "              metrics=['accuracy'])"
   ]
  },
  {
   "cell_type": "markdown",
   "metadata": {
    "colab_type": "text",
    "id": "ZM3usSn6dEtE"
   },
   "source": [
    "Se muestra a continuación un resumen de la estructura de nuestro nuevo modelo."
   ]
  },
  {
   "cell_type": "code",
   "execution_count": 23,
   "metadata": {
    "colab": {
     "base_uri": "https://localhost:8080/",
     "height": 348
    },
    "colab_type": "code",
    "id": "ip0JccF0dEdV",
    "outputId": "d2d74ee0-71d5-460d-ed2c-3b97cfa7b910"
   },
   "outputs": [
    {
     "name": "stdout",
     "output_type": "stream",
     "text": [
      "Model: \"sequential_1\"\n",
      "_________________________________________________________________\n",
      "Layer (type)                 Output Shape              Param #   \n",
      "=================================================================\n",
      "mobilenetv2_1.00_224 (Model) (None, 7, 7, 1280)        2257984   \n",
      "_________________________________________________________________\n",
      "conv2d_1 (Conv2D)            (None, 5, 5, 32)          368672    \n",
      "_________________________________________________________________\n",
      "dropout_1 (Dropout)          (None, 5, 5, 32)          0         \n",
      "_________________________________________________________________\n",
      "global_average_pooling2d_1 ( (None, 32)                0         \n",
      "_________________________________________________________________\n",
      "dense_1 (Dense)              (None, 4)                 132       \n",
      "=================================================================\n",
      "Total params: 2,626,788\n",
      "Trainable params: 368,804\n",
      "Non-trainable params: 2,257,984\n",
      "_________________________________________________________________\n"
     ]
    }
   ],
   "source": [
    "model.summary()"
   ]
  },
  {
   "cell_type": "markdown",
   "metadata": {
    "colab_type": "text",
    "id": "0yNy0lf3dbP_"
   },
   "source": [
    "# Entrenamiento del modelo"
   ]
  },
  {
   "cell_type": "markdown",
   "metadata": {
    "colab_type": "text",
    "id": "-0cvOaxndTge"
   },
   "source": [
    "Una vez tenemos creado el modelo, lo entrenamos con las suficientes épocas para que ni genere *overfitting* ni *underfitting* ."
   ]
  },
  {
   "cell_type": "code",
   "execution_count": 24,
   "metadata": {
    "colab": {},
    "colab_type": "code",
    "id": "VjsDxq2JdTY5"
   },
   "outputs": [
    {
     "name": "stdout",
     "output_type": "stream",
     "text": [
      "WARNING:tensorflow:sample_weight modes were coerced from\n",
      "  ...\n",
      "    to  \n",
      "  ['...']\n",
      "WARNING:tensorflow:sample_weight modes were coerced from\n",
      "  ...\n",
      "    to  \n",
      "  ['...']\n",
      "Train for 33 steps, validate for 8 steps\n",
      "Epoch 1/5\n",
      "33/33 [==============================] - 24s 722ms/step - loss: 1.7457 - accuracy: 0.4615 - val_loss: 0.6642 - val_accuracy: 0.7097\n",
      "Epoch 2/5\n",
      "33/33 [==============================] - 19s 587ms/step - loss: 0.8074 - accuracy: 0.6538 - val_loss: 0.6905 - val_accuracy: 0.5806\n",
      "Epoch 3/5\n",
      "33/33 [==============================] - 18s 556ms/step - loss: 0.5906 - accuracy: 0.7385 - val_loss: 0.5384 - val_accuracy: 0.8387\n",
      "Epoch 4/5\n",
      "33/33 [==============================] - 19s 572ms/step - loss: 0.4650 - accuracy: 0.7846 - val_loss: 0.8592 - val_accuracy: 0.5484\n",
      "Epoch 5/5\n",
      "33/33 [==============================] - 18s 558ms/step - loss: 0.3612 - accuracy: 0.8462 - val_loss: 0.5012 - val_accuracy: 0.7419\n"
     ]
    }
   ],
   "source": [
    "epochs = 5\n",
    "\n",
    "history = model.fit_generator(train_generator, \n",
    "                    epochs=epochs, \n",
    "                    validation_data=val_generator)"
   ]
  },
  {
   "cell_type": "markdown",
   "metadata": {
    "colab_type": "text",
    "id": "Bxp6CCYcdZE2"
   },
   "source": [
    "Una vez entrenado, mostramos por pantalla su curva de aprendizaje"
   ]
  },
  {
   "cell_type": "code",
   "execution_count": 25,
   "metadata": {
    "colab": {},
    "colab_type": "code",
    "id": "53OTCh3jnbwV"
   },
   "outputs": [
    {
     "data": {
      "image/png": "[encoded data removed]",
      "text/plain": [
       "<Figure size 576x576 with 2 Axes>"
      ]
     },
     "metadata": {
      "needs_background": "light"
     },
     "output_type": "display_data"
    }
   ],
   "source": [
    "acc = history.history['accuracy']\n",
    "val_acc = history.history['val_accuracy']\n",
    "\n",
    "loss = history.history['loss']\n",
    "val_loss = history.history['val_loss']\n",
    "\n",
    "plt.figure(figsize=(8, 8))\n",
    "plt.subplot(2, 1, 1)\n",
    "plt.plot(acc, label='Training Accuracy')\n",
    "plt.plot(val_acc, label='Validation Accuracy')\n",
    "plt.legend(loc='lower right')\n",
    "plt.ylabel('Accuracy')\n",
    "plt.ylim([min(plt.ylim()),1])\n",
    "plt.title('Training and Validation Accuracy')\n",
    "\n",
    "plt.subplot(2, 1, 2)\n",
    "plt.plot(loss, label='Training Loss')\n",
    "plt.plot(val_loss, label='Validation Loss')\n",
    "plt.legend(loc='upper right')\n",
    "plt.ylabel('Cross Entropy')\n",
    "plt.ylim([0,1.0])\n",
    "plt.title('Training and Validation Loss')\n",
    "plt.xlabel('epoch')\n",
    "plt.show()"
   ]
  },
  {
   "cell_type": "markdown",
   "metadata": {
    "colab_type": "text",
    "id": "wz6jfY6Hn5nT"
   },
   "source": [
    "# Exportación del modelo a TFLite"
   ]
  },
  {
   "cell_type": "code",
   "execution_count": 26,
   "metadata": {
    "colab": {},
    "colab_type": "code",
    "id": "P2HGFbyPoCRv"
   },
   "outputs": [
    {
     "name": "stdout",
     "output_type": "stream",
     "text": [
      "INFO:tensorflow:Assets written to: ./modelo/assets\n"
     ]
    }
   ],
   "source": [
    "saved_model_dir = './modelo/'\n",
    "tf.saved_model.save(model, saved_model_dir)\n",
    "\n",
    "converter = tf.lite.TFLiteConverter.from_saved_model(saved_model_dir)\n",
    "tflite_model = converter.convert()\n",
    "\n",
    "with open('model.tflite', 'wb') as f:\n",
    "  f.write(tflite_model)"
   ]
  }
 ],
 "metadata": {
  "accelerator": "GPU",
  "colab": {
   "collapsed_sections": [],
   "name": "TFG-ALBERTO LOPEZ CORBALAN",
   "provenance": [],
   "toc_visible": true
  },
  "kernelspec": {
   "display_name": "Python 3",
   "language": "python",
   "name": "python3"
  },
  "language_info": {
   "codemirror_mode": {
    "name": "ipython",
    "version": 3
   },
   "file_extension": ".py",
   "mimetype": "text/x-python",
   "name": "python",
   "nbconvert_exporter": "python",
   "pygments_lexer": "ipython3",
   "version": "3.7.4"
  }
 },
 "nbformat": 4,
 "nbformat_minor": 1
}
