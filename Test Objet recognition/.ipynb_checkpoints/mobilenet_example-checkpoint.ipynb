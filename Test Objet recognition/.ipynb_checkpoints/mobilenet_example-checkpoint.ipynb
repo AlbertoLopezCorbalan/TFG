{
 "cells": [
  {
   "cell_type": "markdown",
   "metadata": {
    "colab_type": "toc",
    "id": "aUVxY7xOGD1G"
   },
   "source": [
    ">[Prerequisites (downloading tensorflow_models and checkpoints)](#scrollTo=T_cETKXHDTXu)\n",
    "\n",
    ">[Checkpoint based inference](#scrollTo=fxMe7_pkk_Vo)\n",
    "\n",
    ">[Frozen inference](#scrollTo=PlwvpK3ElBk6)\n",
    "\n"
   ]
  },
  {
   "cell_type": "markdown",
   "metadata": {
    "colab_type": "text",
    "id": "T_cETKXHDTXu"
   },
   "source": [
    "# Prerequisites (downloading tensorflow_models and checkpoints)"
   ]
  },
  {
   "cell_type": "code",
   "execution_count": 4,
   "metadata": {
    "colab": {
     "autoexec": {
      "startup": false,
      "wait_interval": 0
     }
    },
    "colab_type": "code",
    "id": "g0H2RDadndug"
   },
   "outputs": [],
   "source": [
    "# setup path\n",
    "import sys\n",
    "sys.path.append('/content/models/research/slim')"
   ]
  },
  {
   "cell_type": "markdown",
   "metadata": {
    "colab_type": "text",
    "id": "fxMe7_pkk_Vo"
   },
   "source": [
    "# Checkpoint based inference"
   ]
  },
  {
   "cell_type": "code",
   "execution_count": 5,
   "metadata": {
    "colab": {
     "autoexec": {
      "startup": false,
      "wait_interval": 0
     }
    },
    "colab_type": "code",
    "id": "GrQemT66CxXt"
   },
   "outputs": [
    {
     "ename": "ModuleNotFoundError",
     "evalue": "No module named 'nets'",
     "output_type": "error",
     "traceback": [
      "\u001b[1;31m---------------------------------------------------------------------------\u001b[0m",
      "\u001b[1;31mModuleNotFoundError\u001b[0m                       Traceback (most recent call last)",
      "\u001b[1;32m<ipython-input-5-297929b2e84e>\u001b[0m in \u001b[0;36m<module>\u001b[1;34m\u001b[0m\n\u001b[0;32m      1\u001b[0m \u001b[1;32mimport\u001b[0m \u001b[0mtensorflow\u001b[0m \u001b[1;32mas\u001b[0m \u001b[0mtf\u001b[0m\u001b[1;33m\u001b[0m\u001b[1;33m\u001b[0m\u001b[0m\n\u001b[1;32m----> 2\u001b[1;33m \u001b[1;32mfrom\u001b[0m \u001b[0mnets\u001b[0m\u001b[1;33m.\u001b[0m\u001b[0mmobilenet\u001b[0m \u001b[1;32mimport\u001b[0m \u001b[0mmobilenet_v2\u001b[0m\u001b[1;33m\u001b[0m\u001b[1;33m\u001b[0m\u001b[0m\n\u001b[0m\u001b[0;32m      3\u001b[0m \u001b[1;33m\u001b[0m\u001b[0m\n\u001b[0;32m      4\u001b[0m \u001b[0mtf\u001b[0m\u001b[1;33m.\u001b[0m\u001b[0mreset_default_graph\u001b[0m\u001b[1;33m(\u001b[0m\u001b[1;33m)\u001b[0m\u001b[1;33m\u001b[0m\u001b[1;33m\u001b[0m\u001b[0m\n\u001b[0;32m      5\u001b[0m \u001b[1;33m\u001b[0m\u001b[0m\n",
      "\u001b[1;31mModuleNotFoundError\u001b[0m: No module named 'nets'"
     ]
    }
   ],
   "source": [
    "import tensorflow as tf\n",
    "import mobilenet_v2\n",
    "\n",
    "tf.reset_default_graph()\n",
    "\n",
    "# For simplicity we just decode jpeg inside tensorflow.\n",
    "# But one can provide any input obviously.\n",
    "file_input = tf.placeholder(tf.string, ())\n",
    "\n",
    "image = tf.image.decode_jpeg(tf.read_file(file_input))\n",
    "\n",
    "images = tf.expand_dims(image, 0)\n",
    "images = tf.cast(images, tf.float32) / 128.  - 1\n",
    "images.set_shape((None, None, None, 3))\n",
    "images = tf.image.resize_images(images, (224, 224))\n",
    "\n",
    "# Note: arg_scope is optional for inference.\n",
    "with tf.contrib.slim.arg_scope(mobilenet_v2.training_scope(is_training=False)):\n",
    "  logits, endpoints = mobilenet_v2.mobilenet(images)\n",
    "  \n",
    "# Restore using exponential moving average since it produces (1.5-2%) higher \n",
    "# accuracy\n",
    "ema = tf.train.ExponentialMovingAverage(0.999)\n",
    "vars = ema.variables_to_restore()\n",
    "\n",
    "saver = tf.train.Saver(vars)  "
   ]
  },
  {
   "cell_type": "code",
   "execution_count": 1,
   "metadata": {
    "colab": {
     "autoexec": {
      "startup": false,
      "wait_interval": 0
     },
     "base_uri": "https://localhost:8080/",
     "height": 666,
     "output_extras": [
      {},
      {}
     ]
    },
    "colab_type": "code",
    "executionInfo": {
     "elapsed": 1422,
     "status": "ok",
     "timestamp": 1521493723379,
     "user": {
      "displayName": "Mark Sandler",
      "photoUrl": "//lh5.googleusercontent.com/-CjnV3zpGrlw/AAAAAAAAAAI/AAAAAAAABRU/dfjRy_tzX5M/s50-c-k-no/photo.jpg",
      "userId": "108034853522252017283"
     },
     "user_tz": 420
    },
    "id": "TJbLYo_FCxXy",
    "outputId": "17a4fbaa-dec0-4997-b233-15ba69806083"
   },
   "outputs": [
    {
     "ename": "ModuleNotFoundError",
     "evalue": "No module named 'datasets'",
     "output_type": "error",
     "traceback": [
      "\u001b[1;31m---------------------------------------------------------------------------\u001b[0m",
      "\u001b[1;31mModuleNotFoundError\u001b[0m                       Traceback (most recent call last)",
      "\u001b[1;32m<ipython-input-1-265ff2a551bd>\u001b[0m in \u001b[0;36m<module>\u001b[1;34m\u001b[0m\n\u001b[0;32m      1\u001b[0m \u001b[1;32mfrom\u001b[0m \u001b[0mIPython\u001b[0m \u001b[1;32mimport\u001b[0m \u001b[0mdisplay\u001b[0m\u001b[1;33m\u001b[0m\u001b[1;33m\u001b[0m\u001b[0m\n\u001b[0;32m      2\u001b[0m \u001b[1;32mimport\u001b[0m \u001b[0mpylab\u001b[0m\u001b[1;33m\u001b[0m\u001b[1;33m\u001b[0m\u001b[0m\n\u001b[1;32m----> 3\u001b[1;33m \u001b[1;32mfrom\u001b[0m \u001b[0mdatasets\u001b[0m \u001b[1;32mimport\u001b[0m \u001b[0mimagenet\u001b[0m\u001b[1;33m\u001b[0m\u001b[1;33m\u001b[0m\u001b[0m\n\u001b[0m\u001b[0;32m      4\u001b[0m \u001b[1;32mimport\u001b[0m \u001b[0mPIL\u001b[0m\u001b[1;33m\u001b[0m\u001b[1;33m\u001b[0m\u001b[0m\n\u001b[0;32m      5\u001b[0m \u001b[0mdisplay\u001b[0m\u001b[1;33m.\u001b[0m\u001b[0mdisplay\u001b[0m\u001b[1;33m(\u001b[0m\u001b[0mdisplay\u001b[0m\u001b[1;33m.\u001b[0m\u001b[0mImage\u001b[0m\u001b[1;33m(\u001b[0m\u001b[1;34m'panda.jpg'\u001b[0m\u001b[1;33m)\u001b[0m\u001b[1;33m)\u001b[0m\u001b[1;33m\u001b[0m\u001b[1;33m\u001b[0m\u001b[0m\n",
      "\u001b[1;31mModuleNotFoundError\u001b[0m: No module named 'datasets'"
     ]
    }
   ],
   "source": [
    "from IPython import display\n",
    "import pylab\n",
    "from datasets import imagenet\n",
    "import PIL\n",
    "display.display(display.Image('panda.jpg'))\n",
    "\n",
    "with tf.Session() as sess:\n",
    "  saver.restore(sess,  checkpoint)\n",
    "  x = endpoints['Predictions'].eval(feed_dict={file_input: 'panda.jpg'})\n",
    "label_map = imagenet.create_readable_names_for_imagenet_labels()  \n",
    "print(\"Top 1 prediction: \", x.argmax(),label_map[x.argmax()], x.max())\n"
   ]
  },
  {
   "cell_type": "markdown",
   "metadata": {
    "colab_type": "text",
    "id": "PlwvpK3ElBk6"
   },
   "source": [
    "# Frozen inference"
   ]
  },
  {
   "cell_type": "code",
   "execution_count": 0,
   "metadata": {
    "colab": {
     "autoexec": {
      "startup": false,
      "wait_interval": 0
     }
    },
    "colab_type": "code",
    "id": "o0BIbQUUlVrf"
   },
   "outputs": [],
   "source": [
    "import numpy as np\n",
    "img = np.array(PIL.Image.open('panda.jpg').resize((224, 224))).astype(np.float) / 128 - 1\n",
    "gd = tf.GraphDef.FromString(open(checkpoint_name + '_frozen.pb', 'rb').read())\n",
    "inp, predictions = tf.import_graph_def(gd,  return_elements = ['input:0', 'MobilenetV2/Predictions/Reshape_1:0'])"
   ]
  },
  {
   "cell_type": "code",
   "execution_count": 0,
   "metadata": {
    "colab": {
     "autoexec": {
      "startup": false,
      "wait_interval": 0
     },
     "base_uri": "https://localhost:8080/",
     "height": 35,
     "output_extras": [
      {}
     ]
    },
    "colab_type": "code",
    "executionInfo": {
     "elapsed": 1350,
     "status": "ok",
     "timestamp": 1521493472822,
     "user": {
      "displayName": "Mark Sandler",
      "photoUrl": "//lh5.googleusercontent.com/-CjnV3zpGrlw/AAAAAAAAAAI/AAAAAAAABRU/dfjRy_tzX5M/s50-c-k-no/photo.jpg",
      "userId": "108034853522252017283"
     },
     "user_tz": 420
    },
    "id": "qSU2h5NRlN7V",
    "outputId": "4fb09105-b729-45c3-b5ef-83c8da30a215"
   },
   "outputs": [
    {
     "name": "stdout",
     "output_type": "stream",
     "text": [
      "Top 1 Prediction:  389 giant panda, panda, panda bear, coon bear, Ailuropoda melanoleuca 0.9220208\n"
     ]
    }
   ],
   "source": [
    "with tf.Session(graph=inp.graph):\n",
    "  x = predictions.eval(feed_dict={inp: img.reshape(1, 224,224, 3)})\n",
    "\n",
    "label_map = imagenet.create_readable_names_for_imagenet_labels()  \n",
    "print(\"Top 1 Prediction: \", x.argmax(),label_map[x.argmax()], x.max())"
   ]
  },
  {
   "cell_type": "code",
   "execution_count": 0,
   "metadata": {
    "colab": {
     "autoexec": {
      "startup": false,
      "wait_interval": 0
     }
    },
    "colab_type": "code",
    "id": "CU8dJF8kCo6X"
   },
   "outputs": [],
   "source": []
  }
 ],
 "metadata": {
  "colab": {
   "collapsed_sections": [
    "T_cETKXHDTXu"
   ],
   "default_view": {},
   "name": "Mobilenet Example.ipynb",
   "provenance": [
    {
     "file_id": "1ylt6hB0JlXmWU9Bm6O1zGKVPgc2csZf5",
     "timestamp": 1521507068201
    }
   ],
   "version": "0.3.2",
   "views": {}
  },
  "kernelspec": {
   "display_name": "Python 3",
   "language": "python",
   "name": "python3"
  },
  "language_info": {
   "codemirror_mode": {
    "name": "ipython",
    "version": 3
   },
   "file_extension": ".py",
   "mimetype": "text/x-python",
   "name": "python",
   "nbconvert_exporter": "python",
   "pygments_lexer": "ipython3",
   "version": "3.7.4"
  }
 },
 "nbformat": 4,
 "nbformat_minor": 1
}
